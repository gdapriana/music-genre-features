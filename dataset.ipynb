{
 "cells": [
  {
   "cell_type": "code",
   "id": "initial_id",
   "metadata": {
    "collapsed": true,
    "ExecuteTime": {
     "end_time": "2025-01-09T17:25:50.670436Z",
     "start_time": "2025-01-09T17:25:50.350860Z"
    }
   },
   "source": [
    "import os\n",
    "import urllib.request as req\n",
    "import pandas as pd"
   ],
   "outputs": [],
   "execution_count": 1
  },
  {
   "metadata": {
    "ExecuteTime": {
     "end_time": "2025-01-09T17:29:07.786228Z",
     "start_time": "2025-01-09T17:29:07.748588Z"
    }
   },
   "cell_type": "code",
   "source": [
    "dataset = [\n",
    "  {\"name\": \"rock\", \"csv_link\": \"https://docs.google.com/spreadsheets/d/1nZeEzKG7m1lg1DSFEkKURCTKWX0yUloHQEaHIpC1Oi4/export?format=csv&id=1nZeEzKG7m1lg1DSFEkKURCTKWX0yUloHQEaHIpC1Oi4&gid=0\", \"csv_name\": \"csv/rock.csv\", \"folder\": \"audio/rock\"},\n",
    "  {\"name\": \"rnb\", \"csv_link\": \"https://docs.google.com/spreadsheets/d/1WlYDE__vyu38sLQoKcStS_PbEShrocGW5MkaHkDB9HY/export?format=csv&id=1WlYDE__vyu38sLQoKcStS_PbEShrocGW5MkaHkDB9HY&gid=0\", \"csv_name\": \"csv/rnb.csv\", \"folder\": \"audio/rnb\"},\n",
    "  {\"name\": \"pop\", \"csv_link\": \"https://docs.google.com/spreadsheets/d/1n9T_0FvpxMHCf35Clkqawc1ddiiZSSf1oIJNn4OV4Ik/export?format=csv&id=1n9T_0FvpxMHCf35Clkqawc1ddiiZSSf1oIJNn4OV4Ik&gid=0\", \"csv_name\": \"csv/pop.csv\", \"folder\": \"audio/pop\"},\n",
    "  {\"name\": \"rap\", \"csv_link\": \"https://docs.google.com/spreadsheets/d/1bgTHzyKIWcWCU8YyxG1c_VYiJjRf0gEBzLhC0LCeEfQ/export?format=csv&id=1bgTHzyKIWcWCU8YyxG1c_VYiJjRf0gEBzLhC0LCeEfQ&gid=0\", \"csv_name\": \"csv/rap.csv\", \"folder\": \"audio/rap\"},\n",
    "  {\"name\": \"edm\", \"csv_link\": \"https://docs.google.com/spreadsheets/d/1Xme8_0f6X-ldjCgzTGg1EYAwzcCmb2k4SbIllpvnoJs/export?format=csv&id=1Xme8_0f6X-ldjCgzTGg1EYAwzcCmb2k4SbIllpvnoJs&gid=0\", \"csv_name\": \"csv/edm.csv\", \"folder\": \"audio/edm\"}\n",
    "]\n",
    "\n",
    "pd.DataFrame(dataset)"
   ],
   "id": "39b1198db1d2eb0c",
   "outputs": [
    {
     "data": {
      "text/plain": [
       "   name                                           csv_link      csv_name  \\\n",
       "0  rock  https://docs.google.com/spreadsheets/d/1nZeEzK...  csv/rock.csv   \n",
       "1   rnb  https://docs.google.com/spreadsheets/d/1WlYDE_...   csv/rnb.csv   \n",
       "2   pop  https://docs.google.com/spreadsheets/d/1n9T_0F...   csv/pop.csv   \n",
       "3   rap  https://docs.google.com/spreadsheets/d/1bgTHzy...   csv/rap.csv   \n",
       "4   edm  https://docs.google.com/spreadsheets/d/1Xme8_0...   csv/edm.csv   \n",
       "\n",
       "       folder  \n",
       "0  audio/rock  \n",
       "1   audio/rnb  \n",
       "2   audio/pop  \n",
       "3   audio/rap  \n",
       "4   audio/edm  "
      ],
      "text/html": [
       "<div>\n",
       "<style scoped>\n",
       "    .dataframe tbody tr th:only-of-type {\n",
       "        vertical-align: middle;\n",
       "    }\n",
       "\n",
       "    .dataframe tbody tr th {\n",
       "        vertical-align: top;\n",
       "    }\n",
       "\n",
       "    .dataframe thead th {\n",
       "        text-align: right;\n",
       "    }\n",
       "</style>\n",
       "<table border=\"1\" class=\"dataframe\">\n",
       "  <thead>\n",
       "    <tr style=\"text-align: right;\">\n",
       "      <th></th>\n",
       "      <th>name</th>\n",
       "      <th>csv_link</th>\n",
       "      <th>csv_name</th>\n",
       "      <th>folder</th>\n",
       "    </tr>\n",
       "  </thead>\n",
       "  <tbody>\n",
       "    <tr>\n",
       "      <th>0</th>\n",
       "      <td>rock</td>\n",
       "      <td>https://docs.google.com/spreadsheets/d/1nZeEzK...</td>\n",
       "      <td>csv/rock.csv</td>\n",
       "      <td>audio/rock</td>\n",
       "    </tr>\n",
       "    <tr>\n",
       "      <th>1</th>\n",
       "      <td>rnb</td>\n",
       "      <td>https://docs.google.com/spreadsheets/d/1WlYDE_...</td>\n",
       "      <td>csv/rnb.csv</td>\n",
       "      <td>audio/rnb</td>\n",
       "    </tr>\n",
       "    <tr>\n",
       "      <th>2</th>\n",
       "      <td>pop</td>\n",
       "      <td>https://docs.google.com/spreadsheets/d/1n9T_0F...</td>\n",
       "      <td>csv/pop.csv</td>\n",
       "      <td>audio/pop</td>\n",
       "    </tr>\n",
       "    <tr>\n",
       "      <th>3</th>\n",
       "      <td>rap</td>\n",
       "      <td>https://docs.google.com/spreadsheets/d/1bgTHzy...</td>\n",
       "      <td>csv/rap.csv</td>\n",
       "      <td>audio/rap</td>\n",
       "    </tr>\n",
       "    <tr>\n",
       "      <th>4</th>\n",
       "      <td>edm</td>\n",
       "      <td>https://docs.google.com/spreadsheets/d/1Xme8_0...</td>\n",
       "      <td>csv/edm.csv</td>\n",
       "      <td>audio/edm</td>\n",
       "    </tr>\n",
       "  </tbody>\n",
       "</table>\n",
       "</div>"
      ]
     },
     "execution_count": 2,
     "metadata": {},
     "output_type": "execute_result"
    }
   ],
   "execution_count": 2
  },
  {
   "metadata": {
    "ExecuteTime": {
     "end_time": "2025-01-05T16:23:21.912901Z",
     "start_time": "2025-01-05T16:23:21.908749Z"
    }
   },
   "cell_type": "code",
   "source": [
    "# prepare folder\n",
    "\n",
    "if not os.path.exists(\"audio\"):\n",
    "  os.makedirs(\"audio\")\n",
    "if not os.path.exists(\"csv\"):\n",
    "  os.makedirs(\"csv\")\n",
    "if not os.path.exists(\"final\"):\n",
    "  os.makedirs(\"final\")\n",
    "for data in dataset:\n",
    "  if not os.path.exists(data[\"name\"]):\n",
    "    os.makedirs(f\"audio/{data['name']}\")"
   ],
   "id": "260b7235e2ebbf3a",
   "outputs": [],
   "execution_count": 3
  },
  {
   "metadata": {
    "ExecuteTime": {
     "end_time": "2025-01-09T17:29:18.935785Z",
     "start_time": "2025-01-09T17:29:13.744689Z"
    }
   },
   "cell_type": "code",
   "source": [
    "# download csv\n",
    "\n",
    "for data in dataset:\n",
    "  if data[\"csv_link\"] != \"\":\n",
    "    req.urlretrieve(data[\"csv_link\"], data[\"csv_name\"])"
   ],
   "id": "8ef827503e8cf95d",
   "outputs": [],
   "execution_count": 3
  },
  {
   "metadata": {
    "ExecuteTime": {
     "end_time": "2025-01-05T17:05:49.515852Z",
     "start_time": "2025-01-05T16:23:53.501163Z"
    }
   },
   "cell_type": "code",
   "source": [
    "# download audio\n",
    "for data in dataset:\n",
    "  if data[\"csv_link\"] != \"\":\n",
    "    df = pd.read_csv(data[\"csv_name\"])\n",
    "    for i, row in df.iterrows():\n",
    "      req.urlretrieve(row[\"link\"], f\"{data['folder']}/{row['title']}.mp3\")\n",
    "\n",
    "    print(f\"{data['folder']} song downloaded\")"
   ],
   "id": "b329237eb7b1216e",
   "outputs": [
    {
     "name": "stdout",
     "output_type": "stream",
     "text": [
      "audio/rnb song downloaded\n",
      "audio/pop song downloaded\n",
      "audio/edm song downloaded\n"
     ]
    }
   ],
   "execution_count": 5
  }
 ],
 "metadata": {
  "kernelspec": {
   "display_name": "Python 3",
   "language": "python",
   "name": "python3"
  },
  "language_info": {
   "codemirror_mode": {
    "name": "ipython",
    "version": 2
   },
   "file_extension": ".py",
   "mimetype": "text/x-python",
   "name": "python",
   "nbconvert_exporter": "python",
   "pygments_lexer": "ipython2",
   "version": "2.7.6"
  }
 },
 "nbformat": 4,
 "nbformat_minor": 5
}
